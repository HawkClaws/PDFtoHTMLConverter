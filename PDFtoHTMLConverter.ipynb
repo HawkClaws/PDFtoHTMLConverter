{
  "nbformat": 4,
  "nbformat_minor": 0,
  "metadata": {
    "colab": {
      "provenance": [],
      "authorship_tag": "ABX9TyPwddtAD+TUgw2ASLiW2zxj",
      "include_colab_link": true
    },
    "kernelspec": {
      "name": "python3",
      "display_name": "Python 3"
    },
    "language_info": {
      "name": "python"
    }
  },
  "cells": [
    {
      "cell_type": "markdown",
      "metadata": {
        "id": "view-in-github",
        "colab_type": "text"
      },
      "source": [
        "<a href=\"https://colab.research.google.com/github/HawkClaws/PDFtoHTMLConverter/blob/main/PDFtoHTMLConverter.ipynb\" target=\"_parent\"><img src=\"https://colab.research.google.com/assets/colab-badge.svg\" alt=\"Open In Colab\"/></a>"
      ]
    },
    {
      "cell_type": "code",
      "execution_count": null,
      "metadata": {
        "id": "5S3QNRMIqtoO"
      },
      "outputs": [],
      "source": [
        "!sudo apt update\n",
        "!sudo apt-get install fonts-ipafont-gothic\n",
        "!sudo apt install -y libfontconfig1 libcairo2 libjpeg-turbo8\n",
        "# もし依存関係に関するエラーが出た場合は、以下のコマンドで壊れたパッケージを修復します\n",
        "!sudo apt --fix-broken install\n",
        "# pdf2htmlEXリポジトリから最新の*.debパッケージをダウンロードします\n",
        "!wget https://github.com/pdf2htmlEX/pdf2htmlEX/releases/download/v0.18.8.rc1/pdf2htmlEX-0.18.8.rc1-master-20200630-Ubuntu-bionic-x86_64.deb\n",
        "!sudo mv pdf2htmlEX-0.18.8.rc1-master-20200630-Ubuntu-bionic-x86_64.deb pdf2htmlEX.deb\n",
        "# パッケージをインストールします\n",
        "!sudo apt install ./pdf2htmlEX.deb\n",
        "# 以下のコマンドも使用可能です\n",
        "# !sudo dpkg -i pdf2htmlEX.deb\n",
        "# !sudo apt install -f\n",
        "# インストールをテストします\n",
        "!pdf2htmlEX -v\n"
      ]
    },
    {
      "cell_type": "code",
      "source": [
        "import subprocess\n",
        "\n",
        "# PDF ファイルを指定\n",
        "pdf_file = 'テストデータ.pdf'\n",
        "\n",
        "# HTML ファイルを指定\n",
        "html_output_file = 'output.html'\n",
        "\n",
        "# pdf2htmlEX コマンドを実行\n",
        "subprocess.run(['pdf2htmlEX', pdf_file, html_output_file])\n",
        "\n",
        "print(f'HTML content saved to {html_output_file}')\n"
      ],
      "metadata": {
        "colab": {
          "base_uri": "https://localhost:8080/"
        },
        "id": "nRgcP8cyuuYw",
        "outputId": "28e11638-c849-4157-f114-65bb9edda925"
      },
      "execution_count": 6,
      "outputs": [
        {
          "output_type": "stream",
          "name": "stdout",
          "text": [
            "HTML content saved to output.html\n"
          ]
        }
      ]
    }
  ]
}